{
 "cells": [
  {
   "cell_type": "markdown",
   "id": "00d888d7",
   "metadata": {},
   "source": [
    "Exercicis 1: Enters"
   ]
  },
  {
   "cell_type": "code",
   "execution_count": 8,
   "id": "893d7fbb",
   "metadata": {},
   "outputs": [
    {
     "name": "stdout",
     "output_type": "stream",
     "text": [
      "8.35\n"
     ]
    }
   ],
   "source": [
    "preu_entrada=8.35\n",
    "nombre_entrades=1\n",
    "cost_total= preu_entrada * nombre_entrades\n",
    "print(cost_total)\n"
   ]
  },
  {
   "cell_type": "code",
   "execution_count": 9,
   "id": "391cc219",
   "metadata": {},
   "outputs": [
    {
     "name": "stdout",
     "output_type": "stream",
     "text": [
      "41.75\n"
     ]
    }
   ],
   "source": [
    "preu_entrada=8.35\n",
    "nombre_entrades=5\n",
    "cost_total= preu_entrada * nombre_entrades\n",
    "print(cost_total)"
   ]
  },
  {
   "cell_type": "code",
   "execution_count": 10,
   "id": "b44d6e50",
   "metadata": {},
   "outputs": [
    {
     "name": "stdout",
     "output_type": "stream",
     "text": [
      "2955.9\n"
     ]
    }
   ],
   "source": [
    "preu_entrada=8.35\n",
    "nombre_entrades=354\n",
    "cost_total= preu_entrada * nombre_entrades\n",
    "print(cost_total)"
   ]
  },
  {
   "cell_type": "code",
   "execution_count": null,
   "id": "ed3a67cf",
   "metadata": {},
   "outputs": [
    {
     "name": "stdout",
     "output_type": "stream",
     "text": [
      "54.108000000000004\n"
     ]
    }
   ],
   "source": [
    "nombre_entrades_retornades = 4 \n",
    "percentatge= 88\n",
    "nombre_entrades=10\n",
    "preu_entrada=8.35\n",
    "cost_total= preu_entrada*nombre_entrades - ((nombre_entrades_retornades * preu_entrada * percentatge )/100)\n",
    "print(cost_total)"
   ]
  },
  {
   "cell_type": "markdown",
   "id": "51228407",
   "metadata": {},
   "source": [
    "Exercici 2"
   ]
  },
  {
   "cell_type": "code",
   "execution_count": 14,
   "id": "55eda4ad",
   "metadata": {},
   "outputs": [
    {
     "name": "stdout",
     "output_type": "stream",
     "text": [
      "58.51985059900009\n"
     ]
    }
   ],
   "source": [
    "poblacio=1000\n",
    "infectats_inicials= 10\n",
    "taxa_contagi=0.01\n",
    "dies=5\n",
    "infectats= infectats_inicials + (poblacio-infectats_inicials)*(1-(1-taxa_contagi)**5)\n",
    "print(infectats)"
   ]
  },
  {
   "cell_type": "markdown",
   "id": "27262d60",
   "metadata": {},
   "source": [
    "Exercici 3"
   ]
  },
  {
   "cell_type": "code",
   "execution_count": 29,
   "id": "5e5cb712",
   "metadata": {},
   "outputs": [
    {
     "name": "stdout",
     "output_type": "stream",
     "text": [
      "6.28\n"
     ]
    }
   ],
   "source": [
    "import math\n",
    "r=1\n",
    "A=1\n",
    "v=1\n",
    "p=2*math.pi*r\n",
    "print(round(p,2))"
   ]
  },
  {
   "cell_type": "code",
   "execution_count": 30,
   "id": "62866e8b",
   "metadata": {},
   "outputs": [
    {
     "name": "stdout",
     "output_type": "stream",
     "text": [
      "3.14\n"
     ]
    }
   ],
   "source": [
    "import math\n",
    "r=1\n",
    "A=math.pi*r**2\n",
    "print(round(A,2))"
   ]
  },
  {
   "cell_type": "code",
   "execution_count": 31,
   "id": "1e791858",
   "metadata": {},
   "outputs": [
    {
     "name": "stdout",
     "output_type": "stream",
     "text": [
      "4.19\n"
     ]
    }
   ],
   "source": [
    "import math\n",
    "r=1\n",
    "v=4/3*math.pi*r**3\n",
    "print(round(v,2))"
   ]
  },
  {
   "cell_type": "code",
   "execution_count": 32,
   "id": "3ab97be8",
   "metadata": {},
   "outputs": [
    {
     "name": "stdout",
     "output_type": "stream",
     "text": [
      "12.57\n"
     ]
    }
   ],
   "source": [
    "import math\n",
    "r=2\n",
    "A=1\n",
    "v=1\n",
    "p=2*math.pi*r\n",
    "print(round(p,2))"
   ]
  },
  {
   "cell_type": "code",
   "execution_count": 33,
   "id": "f739b0bd",
   "metadata": {},
   "outputs": [
    {
     "name": "stdout",
     "output_type": "stream",
     "text": [
      "12.57\n"
     ]
    }
   ],
   "source": [
    "import math\n",
    "r=2\n",
    "A=math.pi*r**2\n",
    "print(round(A,2))"
   ]
  },
  {
   "cell_type": "code",
   "execution_count": 34,
   "id": "85e62ed1",
   "metadata": {},
   "outputs": [
    {
     "name": "stdout",
     "output_type": "stream",
     "text": [
      "33.51\n"
     ]
    }
   ],
   "source": [
    "import math\n",
    "r=2\n",
    "v=4/3*math.pi*r**3\n",
    "print(round(v,2))"
   ]
  },
  {
   "cell_type": "code",
   "execution_count": null,
   "id": "519efb08",
   "metadata": {},
   "outputs": [],
   "source": [
    "print(\"hola\")"
   ]
  }
 ],
 "metadata": {
  "kernelspec": {
   "display_name": "Python 3",
   "language": "python",
   "name": "python3"
  },
  "language_info": {
   "codemirror_mode": {
    "name": "ipython",
    "version": 3
   },
   "file_extension": ".py",
   "mimetype": "text/x-python",
   "name": "python",
   "nbconvert_exporter": "python",
   "pygments_lexer": "ipython3",
   "version": "3.13.7"
  }
 },
 "nbformat": 4,
 "nbformat_minor": 5
}
